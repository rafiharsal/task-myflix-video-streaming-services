{
 "cells": [
  {
   "cell_type": "markdown",
   "metadata": {},
   "source": [
    "# MyFLix: Video Streaming Services"
   ]
  },
  {
   "cell_type": "markdown",
   "metadata": {},
   "source": [
    "## Problem definition:\n",
    "\n",
    "MyFlix streaming video service has tier subs that are divided into three categories:\n",
    "\n",
    "* Basic Plan\n",
    "* Standard Plan\n",
    "* Premium Plan\n",
    "\n",
    "The **Basic plan** can only stream, download, has SD quality and can only be used on one device that can be used simultaneously for a price of Rp. 120,000. The content owned by the Basic Plan is only 3rd party Movies.\n",
    "\n",
    "The **Standard plan** still has the same features as Basic, but the difference is that the streaming quality obtained is HD and two devices can use the account simultaneously for a price of Rp. 160,000. The content obtained by the Standard Plan is the same as the Basic Plan, but has additional content, namely Sports Streaming such as Football, Basketball, F1, etc.\n",
    "\n",
    "The **Premium plan** has the same features as the Basic and Standard plans, but the difference is that the streaming quality obtained is UHD and four devices can use the account simultaneously for a price of Rp. 200,000. The content obtained in the Premium Plan is the same as the Basic and Standard plans, but you will also get MyFLix Original Series or Movies content\n",
    "\n",
    "MyFlix users can only choose one of the three available plans. However, users can only upgrade plans from those available and cannot downgrade plans. \n",
    "> eg. Antono is currently a subscriber to the Standard Plan, he can upgrade to the Premium Plan but cannot downgrade to the Basic Plan.\n",
    "\n",
    "Also if existing users have subscribed for more than 12 months and the user wants to upgrade from the current plan, they can get a 5% discount. \n",
    "> eg. Budi has subscribed to PacFlix for 15 months on the Basic Plan, it turns out he wants to upgrade to the Standard Plan, then Budi is entitled to a 5% discount on his payment later\n",
    "\n",
    "In addition, MyFlix has a referral code system but only for new users. So, when a new user who wants to subscribe and wants to make a payment enters a referral. code. then they will get a discount of around 4%. But it should be noted that it will be valid to get a discount if the referral code is in the MyFlix database."
   ]
  },
  {
   "cell_type": "markdown",
   "metadata": {},
   "source": [
    "### Subscription Plan Table"
   ]
  },
  {
   "cell_type": "markdown",
   "metadata": {},
   "source": [
    "| **Basic Plan**       | **Standard Plan**                                       | **Premium Plan**                                               | **Services**   |\n",
    "|----------------------|---------------------------------------------------------|----------------------------------------------------------------|----------------|\n",
    "| ✓                    | ✓                                                       | ✓                                                              | can_stream     |\n",
    "| ✓                    | ✓                                                       | ✓                                                              | can_download   |\n",
    "| ✓                    | ✓                                                       | ✓                                                              | has_SD         |\n",
    "|                      | ✓                                                       | ✓                                                              | has_HD         |\n",
    "|                      |                                                         | ✓                                                              | has_UHD        |\n",
    "| 1                    | 2                                                       | 4                                                              | num_of_devices |\n",
    "| 3rd party movie only | Basic Plan Content + Sports  (F1, Football, Basketball) | Basic Plan + Standard Plan +  PacFlix Original Series or Movie | content        |\n",
    "| Rp 120.000,-         | Rp 160.000,-                                            | Rp 200.000,-                                                   | price          |"
   ]
  },
  {
   "cell_type": "markdown",
   "metadata": {},
   "source": [
    "### Features List\n",
    "- [ ] `check_benefit()` --> Show all plan benefits.\n",
    "- [ ] `check_plan()` --> Show current plan and plan duration.\n",
    "- [ ] `upgrade_plan()` --> Show total price, if plan duration more than 12 months, get 5% discount.\n",
    "- [ ] `pick_plan()` --> Show total price, if got valid referral code, get 4% discount."
   ]
  },
  {
   "cell_type": "markdown",
   "metadata": {},
   "source": [
    "## Code"
   ]
  },
  {
   "cell_type": "markdown",
   "metadata": {},
   "source": [
    "### Import library"
   ]
  },
  {
   "cell_type": "code",
   "execution_count": 3,
   "metadata": {},
   "outputs": [],
   "source": [
    "# import library\n",
    "from tabulate import tabulate"
   ]
  },
  {
   "cell_type": "markdown",
   "metadata": {},
   "source": [
    "### Create existing user data"
   ]
  },
  {
   "cell_type": "code",
   "execution_count": 4,
   "metadata": {},
   "outputs": [],
   "source": [
    "database = {\n",
    "    'Shandy' : ['Basic Plan', 12, 'shandy-1234'],\n",
    "    'Cahya' : ['Standard Plan', 24, 'cahya-abcd'],\n",
    "    'Ana'   : ['Premium Plan', 5, 'ana-2f9g'],\n",
    "    'Bagus' : ['Basic Plan', 11, 'bagus-9f92']\n",
    "}"
   ]
  },
  {
   "cell_type": "markdown",
   "metadata": {},
   "source": [
    "### Create User Class"
   ]
  },
  {
   "cell_type": "code",
   "execution_count": 5,
   "metadata": {},
   "outputs": [],
   "source": [
    "class User:\n",
    "    \n",
    "    def __init__(self, username, current_plan, duration_plan):\n",
    "        self.username = username\n",
    "        self.current_plan = current_plan\n",
    "        self.duration_plan = duration_plan\n",
    "\n",
    "    def check_benefit(self):\n",
    "        table_plan = [\n",
    "            ['✓', '✓', '✓', 'can_stream'],\n",
    "            ['✓', '✓', '✓', 'can_download'],\n",
    "            ['✓', '✓', '✓', 'has_hd'],\n",
    "            [' ', '✓', '✓', 'has_HD'],\n",
    "            [' ', ' ', ' ', 'has_UHD'],\n",
    "            [1, 2, 4, 'num_of_devices'],\n",
    "            ['3rd party movie only',  'Basic Plan Content + Sports  (F1, Football, Basketball)',  'Basic Plan + Standard Plan +  PacFlix Original Series or Movie', 'content'],\n",
    "            ['Rp 120.000,-', 'Rp 160.000,-', 'Rp 200.000,-', 'price']\n",
    "        ]\n",
    "\n",
    "        table = tabulate(\n",
    "            table_plan, \n",
    "            headers=['Basic Plan', 'Standard Plan', 'Premium Plan', 'Services'], \n",
    "            tablefmt='grid')\n",
    "        \n",
    "        print('MyFlix Plan List')\n",
    "        print('')\n",
    "        print(table)\n",
    "\n",
    "    def check_plan(self):\n",
    "        if self.username in database:\n",
    "            print(f'Username: {self.username}\\n'\n",
    "                f'Current plan: {self.current_plan}\\n'\n",
    "                f'Plan duration: {self.duration_plan} months')\n",
    "        else:\n",
    "            print('Username not found')\n",
    "    \n",
    "    def upgrade_plan(self):\n",
    "        all_plan = {\n",
    "            'Basic Plan': [0, 120_000],\n",
    "            'Standard Plan': [1, 160_000],\n",
    "            'Premium Plan': [2, 200_000]\n",
    "        }\n",
    "\n",
    "        new_plan = input('Enter your new plan (Basic Plan/Standard Plan/Premium Plan): ').strip().title()\n",
    "\n",
    "        if new_plan not in all_plan:\n",
    "            print('Invalid plan entered. Please choose from Basic Plan, Standard Plan, or Premium Plan.')\n",
    "            return\n",
    "        \n",
    "        try:\n",
    "            if all_plan[self.current_plan][0] < all_plan[new_plan][0]:\n",
    "\n",
    "                if self.duration_plan > 12:\n",
    "                    discount = 0.05\n",
    "                    discounted_price = all_plan[new_plan][1] - (all_plan[new_plan][1] * discount)\n",
    "\n",
    "                    print(f'Your new plan will be {new_plan} with discounted (5%) price of Rp {discounted_price:,},-')\n",
    "\n",
    "                else:\n",
    "                    print(f'Your new plan will be {new_plan} with standard price of Rp {all_plan[new_plan][1]:,},-')\n",
    "            else:\n",
    "                print('You cannot downgrade your current plan')\n",
    "\n",
    "        except Exception as e:\n",
    "            print(f\"An unexpected error occurred: {e}\")"
   ]
  },
  {
   "cell_type": "markdown",
   "metadata": {},
   "source": [
    "### Create NewUser child class"
   ]
  },
  {
   "cell_type": "code",
   "execution_count": 6,
   "metadata": {},
   "outputs": [],
   "source": [
    "class NewUser(User):\n",
    "\n",
    "    def __init__(self, username):\n",
    "        # Initialize with default values for new user plan and duration\n",
    "        super().__init__(username, 'None', 0)\n",
    "\n",
    "    def pick_plan(self):\n",
    "        all_plan = {\n",
    "            'Basic Plan': [0, 120_000],\n",
    "            'Standard Plan': [1, 160_000],\n",
    "            'Premium Plan': [2, 200_000]\n",
    "        }\n",
    "        \n",
    "        new_plan = input('Enter your new plan (Basic Plan/Standard Plan/Premium Plan): ').strip().title()\n",
    "\n",
    "        if new_plan not in all_plan:\n",
    "            print('Invalid plan entered. Please choose from Basic Plan, Standard Plan, or Premium Plan.')\n",
    "            return\n",
    "        \n",
    "        referral_code = input('Enter your referral code: ').strip()\n",
    "        discount_applied = False\n",
    "\n",
    "        try:\n",
    "            for user in database:\n",
    "                if referral_code == database[user][2]:\n",
    "                    discount = 0.04\n",
    "                    discounted_price = all_plan[new_plan][1] - (all_plan[new_plan][1] * discount)\n",
    "\n",
    "                    print(f'Your new plan will be {new_plan} with discounted (4%) price of Rp {discounted_price:,},-')\n",
    "                    discount_applied = True\n",
    "                    break\n",
    "\n",
    "                if not discount_applied:\n",
    "                    print(f'Your new plan will be {new_plan} with standard price of Rp {all_plan[new_plan][1]:,},-')\n",
    "                    break\n",
    "\n",
    "        except:\n",
    "            print('Error: Invalid referral code format. Please enter a valid referral code (e.g., \"james-1f2f\").')\n",
    "\n",
    "        "
   ]
  },
  {
   "cell_type": "markdown",
   "metadata": {},
   "source": [
    "## Test Case"
   ]
  },
  {
   "cell_type": "markdown",
   "metadata": {},
   "source": [
    "### Case 1\n",
    "\n",
    "Existing user 'Cahya' would like to see the benefits for each subscription plan available on MyFlix.\n",
    "\n",
    "* Input: -\n",
    "* Output: Available plan table"
   ]
  },
  {
   "cell_type": "code",
   "execution_count": 7,
   "metadata": {},
   "outputs": [
    {
     "name": "stdout",
     "output_type": "stream",
     "text": [
      "MyFlix Plan List\n",
      "\n",
      "+----------------------+---------------------------------------------------------+----------------------------------------------------------------+----------------+\n",
      "| Basic Plan           | Standard Plan                                           | Premium Plan                                                   | Services       |\n",
      "+======================+=========================================================+================================================================+================+\n",
      "| ✓                    | ✓                                                       | ✓                                                              | can_stream     |\n",
      "+----------------------+---------------------------------------------------------+----------------------------------------------------------------+----------------+\n",
      "| ✓                    | ✓                                                       | ✓                                                              | can_download   |\n",
      "+----------------------+---------------------------------------------------------+----------------------------------------------------------------+----------------+\n",
      "| ✓                    | ✓                                                       | ✓                                                              | has_hd         |\n",
      "+----------------------+---------------------------------------------------------+----------------------------------------------------------------+----------------+\n",
      "|                      | ✓                                                       | ✓                                                              | has_HD         |\n",
      "+----------------------+---------------------------------------------------------+----------------------------------------------------------------+----------------+\n",
      "|                      |                                                         |                                                                | has_UHD        |\n",
      "+----------------------+---------------------------------------------------------+----------------------------------------------------------------+----------------+\n",
      "| 1                    | 2                                                       | 4                                                              | num_of_devices |\n",
      "+----------------------+---------------------------------------------------------+----------------------------------------------------------------+----------------+\n",
      "| 3rd party movie only | Basic Plan Content + Sports  (F1, Football, Basketball) | Basic Plan + Standard Plan +  PacFlix Original Series or Movie | content        |\n",
      "+----------------------+---------------------------------------------------------+----------------------------------------------------------------+----------------+\n",
      "| Rp 120.000,-         | Rp 160.000,-                                            | Rp 200.000,-                                                   | price          |\n",
      "+----------------------+---------------------------------------------------------+----------------------------------------------------------------+----------------+\n"
     ]
    }
   ],
   "source": [
    "# Create instance of User class\n",
    "user_shandy = User('Shandy', 'Basic Plan', 12)\n",
    "\n",
    "# Check available benefits for each plan using check_benefit method\n",
    "user_shandy.check_benefit()\n"
   ]
  },
  {
   "cell_type": "markdown",
   "metadata": {},
   "source": [
    "### Case 2\n",
    "\n",
    "Existing user 'Cahya' would like to see his current active plan.\n",
    "\n",
    "* Input: -\n",
    "* Output: Username, current plan, plan duration"
   ]
  },
  {
   "cell_type": "code",
   "execution_count": 8,
   "metadata": {},
   "outputs": [
    {
     "name": "stdout",
     "output_type": "stream",
     "text": [
      "Username: Shandy\n",
      "Current plan: Basic Plan\n",
      "Plan duration: 12 months\n"
     ]
    }
   ],
   "source": [
    "# Check active plan using check_plan method\n",
    "user_shandy.check_plan()"
   ]
  },
  {
   "cell_type": "markdown",
   "metadata": {},
   "source": [
    "### Case 3\n",
    "\n",
    "Existing user 'Bagus' with current plan of 'Basic Plan' and would like to upgrade into 'Standard Plan' but have less than 12 months duration plan.\n",
    "\n",
    "* Input: new_plan = 'Standard Plan'\n",
    "* Output: Total undiscounted price"
   ]
  },
  {
   "cell_type": "code",
   "execution_count": 9,
   "metadata": {},
   "outputs": [
    {
     "name": "stdout",
     "output_type": "stream",
     "text": [
      "Your new plan will be Standard Plan with standard price of Rp 160,000,-\n"
     ]
    }
   ],
   "source": [
    "# Create instance of User class that have more less 12 months duration plan\n",
    "user_cahya = User('Bagus', 'Basic Plan', 11)\n",
    "\n",
    "# Upgrade plan to using upgrade_plan method\n",
    "user_cahya.upgrade_plan()"
   ]
  },
  {
   "cell_type": "markdown",
   "metadata": {},
   "source": [
    "### Case 4\n",
    "\n",
    "Existing user 'Cahya' with current plan of 'Standard Plan' and would like to be upgraded into 'Premium Plan' and have more than 12 months duration plan.\n",
    "\n",
    "* Input: new_plan = 'Premium Plan'\n",
    "* Output: Total discounted price"
   ]
  },
  {
   "cell_type": "code",
   "execution_count": 10,
   "metadata": {},
   "outputs": [
    {
     "name": "stdout",
     "output_type": "stream",
     "text": [
      "Your new plan will be Premium Plan with discounted (5%) price of Rp 190,000.0,-\n"
     ]
    }
   ],
   "source": [
    "# Create instance of User class that have more than 12 months duration plan\n",
    "user_cahya = User('Cahya', 'Standard Plan', 24)\n",
    "\n",
    "# Upgrade plan to using upgrade_plan method\n",
    "user_cahya.upgrade_plan()"
   ]
  },
  {
   "cell_type": "markdown",
   "metadata": {},
   "source": [
    "### Case 5\n",
    "\n",
    "New User 'Sandy' would like to subscribe for the 'Basic Plan' without using any referral code.\n",
    "\n",
    "* Input: new_plan = 'Basic Plan', referral_code = None\n",
    "* Output: Total undiscounted new member price"
   ]
  },
  {
   "cell_type": "code",
   "execution_count": 11,
   "metadata": {},
   "outputs": [
    {
     "name": "stdout",
     "output_type": "stream",
     "text": [
      "Your new plan will be Basic Plan with standard price of Rp 120,000,-\n"
     ]
    }
   ],
   "source": [
    "# Create instance of NewUser class\n",
    "user_sandy = NewUser('Sandy')\n",
    "\n",
    "# Subscribe to a plan using\n",
    "user_sandy.pick_plan()"
   ]
  },
  {
   "cell_type": "markdown",
   "metadata": {},
   "source": [
    "### Case 6\n",
    "\n",
    "New User 'Charles' would like to subscribe for the 'Standard Plan' using referral code from user 'Bagus'.\n",
    "\n",
    "* Input: new_plan = 'Standard Plan', referral_code = 'bagus-9f92'\n",
    "* Output: Total discounted new member price"
   ]
  },
  {
   "cell_type": "code",
   "execution_count": 12,
   "metadata": {},
   "outputs": [
    {
     "name": "stdout",
     "output_type": "stream",
     "text": [
      "Your new plan will be Standard Plan with standard price of Rp 160,000,-\n"
     ]
    }
   ],
   "source": [
    "# Create instance of NewUser class\n",
    "user_charles = NewUser('Charles')\n",
    "\n",
    "# Subscribe to a plan using\n",
    "user_charles.pick_plan()"
   ]
  }
 ],
 "metadata": {
  "kernelspec": {
   "display_name": ".venv",
   "language": "python",
   "name": "python3"
  },
  "language_info": {
   "codemirror_mode": {
    "name": "ipython",
    "version": 3
   },
   "file_extension": ".py",
   "mimetype": "text/x-python",
   "name": "python",
   "nbconvert_exporter": "python",
   "pygments_lexer": "ipython3",
   "version": "3.11.9"
  }
 },
 "nbformat": 4,
 "nbformat_minor": 2
}
